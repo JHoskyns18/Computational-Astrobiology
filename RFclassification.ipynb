{
 "cells": [
  {
   "cell_type": "markdown",
   "metadata": {},
   "source": [
    "# Random Forest Classification"
   ]
  },
  {
   "cell_type": "code",
   "execution_count": 1,
   "metadata": {},
   "outputs": [],
   "source": [
    "# basic imports\n",
    "import sys\n",
    "sys.path.append('../scripts/')\n",
    "\n",
    "import numpy as np\n",
    "import matplotlib.pyplot as plt\n",
    "\n",
    "# scikit-learn \n",
    "from sklearn import preprocessing\n",
    "from sklearn.model_selection import train_test_split\n",
    "from sklearn.metrics import roc_curve, auc\n",
    "from sklearn.ensemble import RandomForestClassifier\n",
    "\n",
    "# output \n",
    "import support_tools as st"
   ]
  },
  {
   "cell_type": "code",
   "execution_count": 2,
   "metadata": {},
   "outputs": [],
   "source": [
    "import matplotlib\n",
    "%matplotlib inline"
   ]
  },
  {
   "cell_type": "markdown",
   "metadata": {},
   "source": [
    "## Load data:\n",
    "Our example is a sample of central galaxies in SDSS with $\\log(M_\\ast) > 9.$ <br> <br>\n",
    "\n",
    "The data structure is an array with shape (14133, 6), where the 6 columns are: <br>\n",
    "- 0 $\\log({\\rm sSFR})$\n",
    "- 1 target: whether a galaxy is passive (0) or star forming (1), based on $\\log({\\rm sSFR}) = -11$ threshold\n",
    "- 2 random number in $[0,1)$\n",
    "- 3 $\\log(M_{\\rm BH})$: BH mass\n",
    "- 4 $\\log(M_{\\rm halo})$: halo mass\n",
    "- 5 $\\log(M_\\ast)$: stellar mass\n",
    "\n",
    "<br>\n",
    "The sample consists of 153 550 passive objects and  74 477 star forming galaxies"
   ]
  },
  {
   "cell_type": "code",
   "execution_count": 3,
   "metadata": {},
   "outputs": [],
   "source": [
    "data = np.genfromtxt('../DATA/SDSS-centrals-rf-data.txt')"
   ]
  },
  {
   "cell_type": "markdown",
   "metadata": {},
   "source": [
    "### Quick look at the data"
   ]
  },
  {
   "cell_type": "code",
   "execution_count": 4,
   "metadata": {},
   "outputs": [],
   "source": [
    "st.configure_plots() # some standard formatting declared as a function in ../scripts/support_tools.py"
   ]
  },
  {
   "cell_type": "code",
   "execution_count": 5,
   "metadata": {
    "scrolled": false
   },
   "outputs": [
    {
     "data": {
      "text/plain": [
       "(0.0, 1.0, 0.0, 1.0)"
      ]
     },
     "execution_count": 5,
     "metadata": {},
     "output_type": "execute_result"
    },
    {
     "data": {
      "image/png": "[encoded data removed]",
      "text/plain": [
       "<Figure size 1008x576 with 6 Axes>"
      ]
     },
     "metadata": {
      "needs_background": "light"
     },
     "output_type": "display_data"
    }
   ],
   "source": [
    "fig, ax = plt.subplots(2, 3, figsize=(14,8))\n",
    "fig.subplots_adjust(wspace=0.2, hspace=0.3)\n",
    "\n",
    "labels = [\n",
    "    r'$\\log({\\rm sSFR}\\ [{\\rm yr^{-1}}])$', \n",
    "    'random number',\n",
    "    r'$\\log(M_{\\rm BH} [{\\rm M_\\odot}])$',\n",
    "    r'$\\log(M_{\\rm halo} [{\\rm M_\\odot}])$',\n",
    "    r'$\\log(M_\\ast [{\\rm M_\\odot}])$'\n",
    "    ]\n",
    "\n",
    "ranges = [\n",
    "    (-13, -9), (0,1), (4,10.5),\n",
    "    (11, 15.5), (9,12.5)\n",
    "    ]\n",
    "\n",
    "xlims = [\n",
    "    (-13.5, -8.5), (-0.05, 1.05), (4, 10.5),\n",
    "    (10.8, 15.6), (8.8, 13)\n",
    "    ]\n",
    "\n",
    "for i in range(5):\n",
    "    a = ax.flatten()[i]\n",
    "    if i != 0:\n",
    "        n = a.hist(data[:,i+1], range=ranges[i], \n",
    "                   bins=30, histtype='step', linewidth=1.5)[0]\n",
    "    else:\n",
    "        n = a.hist(data[:,i], range=ranges[i], \n",
    "                   bins=30, histtype='step', linewidth=1.5)[0]\n",
    "        \n",
    "    a.set_ylim(0, n.max()*1.1)\n",
    "    a.set_xlim(xlims[i])\n",
    "    a.set_xlabel(labels[i])\n",
    "\n",
    "ax.flatten()[5].axis('off')"
   ]
  },
  {
   "cell_type": "markdown",
   "metadata": {},
   "source": [
    "***\n",
    "## Prepare the training and validation sets\n",
    "\n",
    "I.e. split the data into the set which the algorithm learns from and the 'unseen, new data' we test its performance on. <br>\n",
    "\n",
    "#### Caveat:\n",
    "As we can see from our data exploration, passive galaxy sample is twice as large as the star forming one. Hence, we choose to balance the sample by randomly subsampling the passive galaxy population to match the star forming population in size. This way, we prevent the algorithm from learning preferentially from the passive galaxy data and developing a bias towards it."
   ]
  },
  {
   "cell_type": "code",
   "execution_count": 6,
   "metadata": {
    "scrolled": false
   },
   "outputs": [
    {
     "name": "stdout",
     "output_type": "stream",
     "text": [
      "Passive population size: 153550\n",
      "Star forming population size: 74477\n",
      "\n",
      "Subsampled passive population size: 74477\n",
      "\n",
      "Balanced input sample size: 148954\n"
     ]
    }
   ],
   "source": [
    "# construct a 'balanced sample' \n",
    "# note that we are no longer using sSFR from this moment on\n",
    "\n",
    "data_pa = data[data[:,1]==1, 1:]    # passive \n",
    "data_sf = data[data[:,1]==0, 1:]    # star forming \n",
    "\n",
    "print('Passive population size: %d' %data_pa.shape[0])\n",
    "print('Star forming population size: %d' %data_sf.shape[0])\n",
    "   \n",
    "subsample = np.random.choice(np.arange(data_pa.shape[0]),    # randomly sample the passive\n",
    "                             size=data_sf.shape[0],          # population indices without\n",
    "                             replace=False)                  # replacement\n",
    "\n",
    "data_pa_sub = data_pa[subsample, :]\n",
    "print('\\nSubsampled passive population size: %d' %data_pa_sub.shape[0])\n",
    "\n",
    "data_balanced = np.vstack((data_pa_sub, data_sf))\n",
    "print('\\nBalanced input sample size: %d' %data_balanced.shape[0])"
   ]
  },
  {
   "cell_type": "markdown",
   "metadata": {},
   "source": [
    "#### Identify the target (known galaxy PA/SF classes) and the input features ($M_{\\rm BH}$, $M_{\\rm halo}$, $M_\\ast$)"
   ]
  },
  {
   "cell_type": "code",
   "execution_count": 7,
   "metadata": {},
   "outputs": [],
   "source": [
    "target = data_balanced[:,0].astype('int')    # note that the class labels are integers\n",
    "features = data_balanced[:,1:]"
   ]
  },
  {
   "cell_type": "markdown",
   "metadata": {},
   "source": [
    "RF requires all input features to be standardised in order for their individual dynamic ranges not to influence the algorithm learning. <br>\n",
    "\n",
    "#### Hence, we then scale/normalise the input features using scikit-learn `RobustScaler`\n",
    "![RobustScaler](support/robustscaler.png)\n",
    "This module scales each feature in turn by removing the median and normalising all remaining data by the interquartile range specified by a user. This way one is not sensitive to outliers, in contrast with a mean + variance combination. Follow [this link](https://scikit-learn.org/stable/modules/generated/sklearn.preprocessing.RobustScaler.html) for the scikit-learn manual <br>"
   ]
  },
  {
   "cell_type": "code",
   "execution_count": 8,
   "metadata": {},
   "outputs": [],
   "source": [
    "scaler = preprocessing.RobustScaler(quantile_range=(5.0, 95.0),    # defaults to 25.0, 75.0\n",
    "                                    copy=True)                     # one can set it to False for an inplace scaling\n",
    "                                                                   # which has the potential to go wrong. Defaults\n",
    "                                                                   # to True\n",
    "        \n",
    "scaled_features = scaler.fit_transform(features)    # fits the correct scaling for each feature and then applies\n",
    "                                                    # it to the data"
   ]
  },
  {
   "cell_type": "markdown",
   "metadata": {},
   "source": [
    "### Finally, we split the data into the training (tr) and validation (va) sets using `train_test_split`\n",
    "![train_test_split](support/train-test-split.png)\n",
    "Follow [this link](https://scikit-learn.org/stable/modules/generated/sklearn.model_selection.train_test_split.html) for the scikit-learn manual <br>"
   ]
  },
  {
   "cell_type": "code",
   "execution_count": 9,
   "metadata": {},
   "outputs": [],
   "source": [
    "features_tr, features_va, target_tr, target_va = train_test_split(scaled_features,\n",
    "                                                                  target,\n",
    "                                                                  test_size=0.5)    # what fraction of the input\n",
    "                                                                                    # input sample is dedicated\n",
    "                                                                                    # to validation. Here, it is\n",
    "                                                                                    # a 50/50 split"
   ]
  },
  {
   "cell_type": "markdown",
   "metadata": {},
   "source": [
    "***\n",
    "## Construct a RF classifier\n",
    "\n",
    "### or, in other words, constrain the design of your decision trees and the resulting forest"
   ]
  },
  {
   "cell_type": "markdown",
   "metadata": {},
   "source": [
    "![RandomForestClassifier](support/scikit-learn-rf-classifier.png)\n",
    "Follow [this link](https://scikit-learn.org/stable/modules/generated/sklearn.ensemble.RandomForestClassifier.html) for the scikit-learn manual <br>\n",
    "\n",
    "As we can see, there are a few moving parts to adjust in the design. Before we discuss this, let us first use a combination which has already prooved to deliver a good result"
   ]
  },
  {
   "cell_type": "code",
   "execution_count": 10,
   "metadata": {},
   "outputs": [],
   "source": [
    "cls = RandomForestClassifier(n_estimators=200,       # number of individual decision trees\n",
    "                             min_samples_leaf=145,   # minimum number of objects in a leaf node\n",
    "                             max_features='sqrt',    # number of input features to consider at each split, default\n",
    "                             n_jobs=-1)              # number of jobs to run in parallel"
   ]
  },
  {
   "cell_type": "markdown",
   "metadata": {},
   "source": [
    "#### There are several parameters of potential interest, which are skipped above because their default values are convenient\n",
    "Among these the two most frequently adjusted ones are:\n",
    "- *`max_depth`*: controls how many split levels a tree can have, defaults to None. This parameter works in tandem with `min_samples_leaf`, since more populated leaves necessarily make the tree shallower\n",
    "- *`min_samples_split`*: controls the minimum size of a node to be split, defaults to 2. Again, dependent on `min_samples_leaf`, since a split will not happen if it leads to a less popualted leaf node "
   ]
  },
  {
   "cell_type": "markdown",
   "metadata": {},
   "source": [
    "***\n",
    "## Train the Random Forest\n",
    "using the `RandomForestClassifier` method `fit`"
   ]
  },
  {
   "cell_type": "code",
   "execution_count": 11,
   "metadata": {},
   "outputs": [
    {
     "data": {
      "text/plain": [
       "RandomForestClassifier(bootstrap=True, class_weight=None, criterion='gini',\n",
       "                       max_depth=None, max_features='sqrt', max_leaf_nodes=None,\n",
       "                       min_impurity_decrease=0.0, min_impurity_split=None,\n",
       "                       min_samples_leaf=145, min_samples_split=2,\n",
       "                       min_weight_fraction_leaf=0.0, n_estimators=200,\n",
       "                       n_jobs=-1, oob_score=False, random_state=None, verbose=0,\n",
       "                       warm_start=False)"
      ]
     },
     "execution_count": 11,
     "metadata": {},
     "output_type": "execute_result"
    }
   ],
   "source": [
    "cls.fit(features_tr, target_tr)    # Et voila! We have just trained our forest!"
   ]
  },
  {
   "cell_type": "markdown",
   "metadata": {},
   "source": [
    "***\n",
    "## Evaluate RF performance and infer feature importances\n",
    "We can check the algorithm's performance by predicting classification probabilities for both the training and validation sets with `predict_proba` method"
   ]
  },
  {
   "cell_type": "code",
   "execution_count": 12,
   "metadata": {},
   "outputs": [],
   "source": [
    "prob_class_tr = cls.predict_proba(features_tr)[:,1]    # an array of probabilities for each object in the \n",
    "                                                       # training sample to be classified as passive\n",
    "\n",
    "prob_class_va = cls.predict_proba(features_va)[:,1]    # an array of probabilities for each object in the \n",
    "                                                       # validation sample to be classified as passive"
   ]
  },
  {
   "cell_type": "markdown",
   "metadata": {},
   "source": [
    "### Compute the ROC (receiver operating characteristic) curve for our classifier and its AUC (area under the curve).\n",
    "We will use the `roc_curve` method descibed [here](https://scikit-learn.org/stable/modules/generated/sklearn.metrics.roc_curve.html) and the `auc` method described [here](https://scikit-learn.org/stable/modules/generated/sklearn.metrics.auc.html). <br>\n",
    "\n",
    "The ROC curve shows how many objects are classified as false positives (here, star forming galaxies mislabelled as passive) against how many as true positives as a function of the classification threshold.\n",
    "#### Hence, a perfect classifier yields AUC=1.0, while a random guess has AUC=0.5"
   ]
  },
  {
   "cell_type": "code",
   "execution_count": 13,
   "metadata": {},
   "outputs": [],
   "source": [
    "fpr_tr, tpr_tr, thresholds = roc_curve(target_tr, prob_class_tr)    # ROC curve for the training set\n",
    "auc_tr = auc(fpr_tr, tpr_tr)                                        # AUC for the training set\n",
    "\n",
    "fpr_va, tpr_va, thresholds = roc_curve(target_va, prob_class_va)    # ROC curve for the validation set   \n",
    "auc_va = auc(fpr_va, tpr_va)                                        # AUC for the validation set"
   ]
  },
  {
   "cell_type": "markdown",
   "metadata": {},
   "source": [
    "We can now visualise the performance with the ROC curve:"
   ]
  },
  {
   "cell_type": "code",
   "execution_count": 14,
   "metadata": {},
   "outputs": [
    {
     "name": "stdout",
     "output_type": "stream",
     "text": [
      "AUC Training: 0.8591\n",
      "AUC Validation: 0.8514\n"
     ]
    },
    {
     "data": {
      "image/png": "[encoded data removed]",
      "text/plain": [
       "<Figure size 432x432 with 1 Axes>"
      ]
     },
     "metadata": {
      "needs_background": "light"
     },
     "output_type": "display_data"
    }
   ],
   "source": [
    "fig, ax = plt.subplots(figsize=(6,6))\n",
    "ax.plot(fpr_va, tpr_va, color='b', lw=2., label='validation')\n",
    "ax.plot(fpr_tr, tpr_tr, color='r', ls=':', lw=2.,\n",
    "        label='training')\n",
    "ax.plot([0,1], [0,1], color='k', ls='--', lw=2.)\n",
    "ax.set_ylabel('True Positive Rate')\n",
    "ax.set_xlabel('False Positive Rate')\n",
    "ax.set_title('ROC')\n",
    "ax.text(0.4, 0.25, r\"${\\rm AUC_{train}}$: %.2f\" %auc_tr)\n",
    "ax.text(0.4, 0.15, r\"${\\rm AUC_{valid}}$: %.2f\" %auc_va)\n",
    "ax.set_xlim(0, 1)\n",
    "ax.set_ylim(0, 1)\n",
    "print(\"AUC Training: %.4f\" %auc_tr)\n",
    "print(\"AUC Validation: %.4f\" %auc_va)"
   ]
  },
  {
   "cell_type": "markdown",
   "metadata": {},
   "source": [
    "The above algorithm performs well! Its **bias** might feel a bit suboptimal (the value of AUC) but the **variance** is almost non-existent (${\\rm AUC_{train}}$ - ${\\rm AUC_{valid}}$)  "
   ]
  },
  {
   "cell_type": "markdown",
   "metadata": {},
   "source": [
    "***\n",
    "## Infer feature importances\n",
    "Using the `RandomForestClassifier` attribute `feature_importances_` "
   ]
  },
  {
   "cell_type": "code",
   "execution_count": 15,
   "metadata": {},
   "outputs": [],
   "source": [
    "performance = cls.feature_importances_    # returns feature importances in the order in which they were\n",
    "                                          # provided to the classifier upon fitting "
   ]
  },
  {
   "cell_type": "code",
   "execution_count": 16,
   "metadata": {},
   "outputs": [
    {
     "data": {
      "text/plain": [
       "Text(0, 0.5, 'Relative performance')"
      ]
     },
     "execution_count": 16,
     "metadata": {},
     "output_type": "execute_result"
    },
    {
     "data": {
      "image/png": "[encoded data removed]",
      "text/plain": [
       "<Figure size 360x360 with 1 Axes>"
      ]
     },
     "metadata": {
      "needs_background": "light"
     },
     "output_type": "display_data"
    }
   ],
   "source": [
    "# plot the feature importances\n",
    "\n",
    "varnames = np.array([\n",
    "    'random', r'$M_{\\rm BH}$', \n",
    "    r'$M_{\\rm halo}$', r'$M_\\ast$'\n",
    "    ])\n",
    "idx = np.argsort(performance)[::-1]  # sort the variables in order of decreasing performance\n",
    "\n",
    "fig, ax = plt.subplots(figsize=(5,5))\n",
    "loc = np.arange(features_tr.shape[1])\n",
    "ax.bar(loc, performance[idx], width=0.3, \n",
    "       edgecolor='#0F2080', facecolor='w',\n",
    "       hatch=2*'\\\\', lw=2)\n",
    "ax.set_xticks(loc)\n",
    "ax.tick_params(which='both', axis='x', bottom=False, top=False)\n",
    "ax.set_ylim(0,1)\n",
    "ax.set_xticklabels(varnames[idx])\n",
    "ax.set_title('Parameter performance')\n",
    "ax.set_ylabel('Relative performance')"
   ]
  },
  {
   "cell_type": "markdown",
   "metadata": {},
   "source": [
    "***\n",
    "# The dangers of overfitting\n",
    "\n",
    "This time let us see what happens when we allow the algorithm for maximum flexibility "
   ]
  },
  {
   "cell_type": "markdown",
   "metadata": {},
   "source": [
    "### Maximum flexibility = the RF learns the training set very well but is not generalisable "
   ]
  },
  {
   "cell_type": "code",
   "execution_count": 17,
   "metadata": {},
   "outputs": [],
   "source": [
    "cls_flex = RandomForestClassifier(n_estimators=200,    \n",
    "                                  min_samples_leaf=1,\n",
    "                                  max_features=None,    # note that now the classifier can use all features \n",
    "                                  n_jobs=-1)            # to decide on a split on every node"
   ]
  },
  {
   "cell_type": "code",
   "execution_count": 18,
   "metadata": {},
   "outputs": [
    {
     "data": {
      "text/plain": [
       "RandomForestClassifier(bootstrap=True, class_weight=None, criterion='gini',\n",
       "                       max_depth=None, max_features=None, max_leaf_nodes=None,\n",
       "                       min_impurity_decrease=0.0, min_impurity_split=None,\n",
       "                       min_samples_leaf=1, min_samples_split=2,\n",
       "                       min_weight_fraction_leaf=0.0, n_estimators=200,\n",
       "                       n_jobs=-1, oob_score=False, random_state=None, verbose=0,\n",
       "                       warm_start=False)"
      ]
     },
     "execution_count": 18,
     "metadata": {},
     "output_type": "execute_result"
    }
   ],
   "source": [
    "cls_flex.fit(features_tr, target_tr)    "
   ]
  },
  {
   "cell_type": "code",
   "execution_count": 19,
   "metadata": {},
   "outputs": [],
   "source": [
    "# class probabilities\n",
    "prob_class_tr_flex = cls_flex.predict_proba(features_tr)[:,1]    \n",
    "prob_class_va_flex = cls_flex.predict_proba(features_va)[:,1]\n",
    "\n",
    "# ROC & AUC\n",
    "fpr_tr_flex, tpr_tr_flex, thresholds_flex = roc_curve(target_tr, prob_class_tr_flex)    \n",
    "auc_tr_flex = auc(fpr_tr_flex, tpr_tr_flex)                                       \n",
    "fpr_va_flex, tpr_va_flex, thresholds_flex = roc_curve(target_va, prob_class_va_flex)    \n",
    "auc_va_flex = auc(fpr_va_flex, tpr_va_flex)"
   ]
  },
  {
   "cell_type": "code",
   "execution_count": 20,
   "metadata": {
    "scrolled": false
   },
   "outputs": [
    {
     "name": "stdout",
     "output_type": "stream",
     "text": [
      "AUC Training: 1.0000\n",
      "AUC Validation: 0.8384\n"
     ]
    },
    {
     "data": {
      "image/png": "[encoded data removed]",
      "text/plain": [
       "<Figure size 432x432 with 1 Axes>"
      ]
     },
     "metadata": {
      "needs_background": "light"
     },
     "output_type": "display_data"
    }
   ],
   "source": [
    "fig, ax = plt.subplots(figsize=(6,6))\n",
    "ax.plot(fpr_va_flex, tpr_va_flex, color='b', lw=2., label='validation')\n",
    "ax.plot(fpr_tr_flex, tpr_tr_flex, color='r', ls=':', lw=2.,\n",
    "        label='training')\n",
    "ax.plot([0,1], [0,1], color='k', ls='--', lw=2.)\n",
    "ax.set_ylabel('True Positive Rate')\n",
    "ax.set_xlabel('False Positive Rate')\n",
    "ax.set_title('ROC for min\\_leaf\\_nodes=1')\n",
    "ax.text(0.4, 0.25, r\"${\\rm AUC_{train}}$: %.2f\" %auc_tr_flex)\n",
    "ax.text(0.4, 0.15, r\"${\\rm AUC_{valid}}$: %.2f\" %auc_va_flex)\n",
    "ax.set_xlim(-0.01, 1.01)\n",
    "ax.set_ylim(-0.01, 1.01)\n",
    "print(\"AUC Training: %.4f\" %auc_tr_flex)\n",
    "print(\"AUC Validation: %.4f\" %auc_va_flex)"
   ]
  },
  {
   "cell_type": "markdown",
   "metadata": {},
   "source": [
    "The RF trains on the training set to perfection, however it performes rather poorly on the validation data and hence is **not generalisable**. We can no longer use our algorithm to predict unknown classes for entirely new objects"
   ]
  },
  {
   "cell_type": "markdown",
   "metadata": {},
   "source": [
    "*** \n",
    "# Why not use a single decision tree?"
   ]
  },
  {
   "cell_type": "code",
   "execution_count": 21,
   "metadata": {},
   "outputs": [
    {
     "data": {
      "text/plain": [
       "DecisionTreeClassifier(class_weight=None, criterion='gini', max_depth=None,\n",
       "                       max_features=None, max_leaf_nodes=None,\n",
       "                       min_impurity_decrease=0.0, min_impurity_split=None,\n",
       "                       min_samples_leaf=1, min_samples_split=2,\n",
       "                       min_weight_fraction_leaf=0.0, presort=False,\n",
       "                       random_state=12, splitter='best')"
      ]
     },
     "execution_count": 21,
     "metadata": {},
     "output_type": "execute_result"
    }
   ],
   "source": [
    "from sklearn.tree import DecisionTreeClassifier\n",
    "\n",
    "# Make a decision tree and train\n",
    "tree = DecisionTreeClassifier(random_state=12)\n",
    "tree.fit(features_tr, target_tr)"
   ]
  },
  {
   "cell_type": "code",
   "execution_count": 22,
   "metadata": {},
   "outputs": [],
   "source": [
    "# Make probability predictions\n",
    "prob_class_tr_tree = tree.predict_proba(features_tr)[:, 1]\n",
    "prob_class_va_tree = tree.predict_proba(features_va)[:, 1]"
   ]
  },
  {
   "cell_type": "code",
   "execution_count": 23,
   "metadata": {},
   "outputs": [],
   "source": [
    "# ROC & AUC\n",
    "fpr_tr_tree, tpr_tr_tree, thresholds_tree = roc_curve(target_tr, prob_class_tr_tree)    \n",
    "auc_tr_tree = auc(fpr_tr_tree, tpr_tr_tree)                                       \n",
    "fpr_va_tree, tpr_va_tree, thresholds_tree = roc_curve(target_va, prob_class_va_tree)    \n",
    "auc_va_tree = auc(fpr_va_tree, tpr_va_tree)"
   ]
  },
  {
   "cell_type": "code",
   "execution_count": 24,
   "metadata": {
    "scrolled": false
   },
   "outputs": [
    {
     "name": "stdout",
     "output_type": "stream",
     "text": [
      "AUC Training: 1.0000\n",
      "AUC Validation: 0.6844\n"
     ]
    },
    {
     "data": {
      "image/png": "[encoded data removed]",
      "text/plain": [
       "<Figure size 432x432 with 1 Axes>"
      ]
     },
     "metadata": {
      "needs_background": "light"
     },
     "output_type": "display_data"
    }
   ],
   "source": [
    "fig, ax = plt.subplots(figsize=(6,6))\n",
    "ax.plot(fpr_va_tree, tpr_va_tree, color='b', lw=2., label='validation')\n",
    "ax.plot(fpr_tr_tree, tpr_tr_tree, color='r', ls=':', lw=2.,\n",
    "        label='training')\n",
    "ax.plot([0,1], [0,1], color='k', ls='--', lw=2.)\n",
    "ax.set_ylabel('True Positive Rate')\n",
    "ax.set_xlabel('False Positive Rate')\n",
    "ax.set_title('ROC for n\\_estimators=1')\n",
    "ax.text(0.4, 0.25, r\"${\\rm AUC_{train}}$: %.2f\" %auc_tr_tree)\n",
    "ax.text(0.4, 0.15, r\"${\\rm AUC_{valid}}$: %.2f\" %auc_va_tree)\n",
    "ax.set_xlim(-0.01, 1.01)\n",
    "ax.set_ylim(-0.01, 1.01)\n",
    "print(\"AUC Training: %.4f\" %auc_tr_tree)\n",
    "print(\"AUC Validation: %.4f\" %auc_va_tree)"
   ]
  },
  {
   "cell_type": "markdown",
   "metadata": {},
   "source": [
    "We can see again that the tree learns its training set perfectly. However, when exposed to previously unseen data, it performs much worse than a combination of randomised trees with the same depth and leaf size priviliges. A single decision tree has a low bias (high ${\\rm AUC_{train}}$ score, here equal to 1.00) and a high variance (large ${\\rm AUC_{train}-AUC_{valid}}$, here equal to 0.32). A combination of multiple such trees in a forest reduces the variance (from 0.32 to 0.16 in ${\\rm AUC_{train}-AUC_{valid}}$ in our example), making the algorithm perform much better, relative to a single decision tree.\n",
    "<br>\n"
   ]
  },
  {
   "cell_type": "markdown",
   "metadata": {},
   "source": [
    "You can learn more about the **bias-variance tradeoff** in [this neat, short article](https://towardsdatascience.com/random-forests-and-the-bias-variance-tradeoff-3b77fee339b4), which also discusses hyperparameter tuning in order to minimise both quantities in your own forest design."
   ]
  },
  {
   "cell_type": "markdown",
   "metadata": {},
   "source": [
    "### Decision tree visualisation"
   ]
  },
  {
   "cell_type": "markdown",
   "metadata": {},
   "source": [
    "Finally, we can take a look at what an exemplary decision tree looks like with our data, thanks to the wonders of [graphviz](https://graphviz.org/about/) software. The illustration is 3 levels deep into the tree, resulting in 8 split nodes.\n",
    "![Single decision tree illustration](support/tree.png)"
   ]
  },
  {
   "cell_type": "markdown",
   "metadata": {},
   "source": [
    "*Additional detail for the interested folk:* <br>\n",
    "Your decision tree obtained on your local machine through this jupyter notebook **will not look exactly like the above** because of the **random choice of the training and validation samples.** <br>\n",
    "\n",
    "Provided the samples are the same, however, there is still a residual layer of randomness in the tree, which can in priniciple prevent the first three layers from looking exactly like the diagram above. This is because even though we make the algorithm use all features at every node to choose the best split, in case there are **two features** which would give an exactly **same information gain** upon splitting, the feature is chosen **at random**. In order to force the tree to behave in a deterministic fashion we set `random_state=12`. <br>\n",
    "You can learn more about the implementation of decision tree classifiers [here](https://scikit-learn.org/stable/modules/generated/sklearn.tree.DecisionTreeClassifier.html)."
   ]
  }
 ],
 "metadata": {
  "kernelspec": {
   "display_name": "Python 3 (ipykernel)",
   "language": "python",
   "name": "python3"
  },
  "language_info": {
   "codemirror_mode": {
    "name": "ipython",
    "version": 3
   },
   "file_extension": ".py",
   "mimetype": "text/x-python",
   "name": "python",
   "nbconvert_exporter": "python",
   "pygments_lexer": "ipython3",
   "version": "3.9.7"
  }
 },
 "nbformat": 4,
 "nbformat_minor": 4
}
